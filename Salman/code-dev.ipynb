{
 "cells": [
  {
   "cell_type": "code",
   "execution_count": 1,
   "metadata": {},
   "outputs": [],
   "source": [
    "import numpy as np\n",
    "import matplotlib.pyplot as plt\n",
    "import pandas as pd\n",
    "\n",
    "import mne\n",
    "\n",
    "import os"
   ]
  },
  {
   "cell_type": "markdown",
   "metadata": {},
   "source": [
    "# load the data"
   ]
  },
  {
   "cell_type": "markdown",
   "metadata": {},
   "source": [
    "You need to change the file type to txt by appending '.txt' to the '.wl1' files."
   ]
  },
  {
   "cell_type": "code",
   "execution_count": 11,
   "metadata": {},
   "outputs": [
    {
     "name": "stdout",
     "output_type": "stream",
     "text": [
      "['.DS_Store', '2025-01-28_006', '2025-01-28_001', '2025-01-28_008', '2025-01-28_009', '2025-01-28_007', '2025-01-28_002', '2025-01-28_005', '2025-01-28_004', '2025-01-28_003']\n"
     ]
    }
   ],
   "source": [
    "path = os.getcwd() + \"/2025-01-28-Group1/\"\n",
    "files = os.listdir(path)\n",
    "print(files)"
   ]
  },
  {
   "cell_type": "code",
   "execution_count": 70,
   "metadata": {},
   "outputs": [
    {
     "name": "stdout",
     "output_type": "stream",
     "text": [
      "/Users/adamsmith/Desktop/ACADEMICS/YORKU/taships/Tutoring/tutoring/Salman/2025-01-28-Group1/2025-01-28_001/2025-01-28_001.wl1.txt\n",
      "/Users/adamsmith/Desktop/ACADEMICS/YORKU/taships/Tutoring/tutoring/Salman/2025-01-28-Group1/2025-01-28_001/2025-01-28_001.wl2.txt\n"
     ]
    }
   ],
   "source": [
    "# try the first file\n",
    "sub_path = '2025-01-28_001'\n",
    "data_path = path + sub_path\n",
    "\n",
    "filename1 = os.path.join(data_path, sub_path + '.wl1.txt')\n",
    "filename2 = os.path.join(data_path, sub_path + '.wl2.txt')\n",
    "\n",
    "print(filename1)\n",
    "print(filename2)"
   ]
  },
  {
   "cell_type": "code",
   "execution_count": 72,
   "metadata": {},
   "outputs": [
    {
     "name": "stdout",
     "output_type": "stream",
     "text": [
      "          0         1         2         3         4         5         6   \\\n",
      "0   0.035096  0.010170  0.035766  0.026234  0.017958  0.097040  0.006404   \n",
      "1   0.035052  0.010129  0.035719  0.026219  0.017912  0.097036  0.006366   \n",
      "2   0.035234  0.010161  0.035814  0.026412  0.018108  0.097806  0.006383   \n",
      "3   0.035401  0.010201  0.035951  0.026559  0.018181  0.098367  0.006400   \n",
      "4   0.034696  0.010089  0.035430  0.025786  0.017623  0.095271  0.006288   \n",
      "5   0.034560  0.010056  0.035262  0.025762  0.017606  0.095334  0.006287   \n",
      "6   0.034619  0.010065  0.035255  0.025835  0.017652  0.095759  0.006284   \n",
      "7   0.034611  0.010040  0.035265  0.025920  0.017727  0.095943  0.006272   \n",
      "8   0.034872  0.010057  0.035402  0.026163  0.017903  0.096718  0.006299   \n",
      "9   0.034890  0.010058  0.035440  0.026102  0.017854  0.096694  0.006268   \n",
      "10  0.034209  0.009974  0.034919  0.025452  0.017412  0.094137  0.006187   \n",
      "11  0.034136  0.009936  0.034811  0.025433  0.017399  0.094322  0.006170   \n",
      "12  0.034174  0.009917  0.034874  0.025484  0.017446  0.094573  0.006140   \n",
      "13  0.034216  0.009921  0.034836  0.025612  0.017503  0.094911  0.006143   \n",
      "14  0.034367  0.009921  0.034954  0.025784  0.017657  0.095676  0.006139   \n",
      "15  0.034522  0.009986  0.035101  0.025887  0.017691  0.096112  0.006148   \n",
      "16  0.033888  0.009868  0.034606  0.025128  0.017180  0.093201  0.006063   \n",
      "17  0.033708  0.009819  0.034448  0.025113  0.017197  0.093216  0.006039   \n",
      "18  0.033831  0.009853  0.034496  0.025148  0.017218  0.093544  0.006040   \n",
      "19  0.033804  0.009840  0.034474  0.025264  0.017258  0.093828  0.006049   \n",
      "20  0.034007  0.009865  0.034648  0.025476  0.017453  0.094564  0.006058   \n",
      "21  0.034192  0.009914  0.034849  0.025708  0.017580  0.095360  0.006076   \n",
      "22  0.034146  0.009905  0.034722  0.025418  0.017341  0.094248  0.006060   \n",
      "23  0.033576  0.009826  0.034356  0.024972  0.017045  0.092496  0.006009   \n",
      "24  0.033612  0.009810  0.034384  0.025063  0.017131  0.092944  0.006006   \n",
      "25  0.033618  0.009804  0.034322  0.025017  0.017088  0.092973  0.005944   \n",
      "26  0.033712  0.009824  0.034413  0.025181  0.017210  0.093351  0.005990   \n",
      "27  0.033874  0.009876  0.034581  0.025339  0.017328  0.094049  0.005982   \n",
      "28  0.034064  0.009885  0.034751  0.025535  0.017483  0.094741  0.006052   \n",
      "\n",
      "          7         8         9         10        11        12        13  \\\n",
      "0   0.003706  0.016990  0.090234  0.017698  0.006232  0.021810  0.037609   \n",
      "1   0.003672  0.016956  0.090224  0.017747  0.006245  0.021795  0.037795   \n",
      "2   0.003699  0.017000  0.090508  0.017800  0.006220  0.021896  0.038184   \n",
      "3   0.003693  0.016961  0.090263  0.017712  0.006216  0.021737  0.037427   \n",
      "4   0.003648  0.016719  0.089405  0.017527  0.006162  0.021510  0.036996   \n",
      "5   0.003642  0.016741  0.089402  0.017547  0.006166  0.021517  0.037195   \n",
      "6   0.003605  0.016704  0.089432  0.017516  0.006130  0.021467  0.037243   \n",
      "7   0.003649  0.016705  0.089514  0.017563  0.006160  0.021486  0.037485   \n",
      "8   0.003633  0.016819  0.089745  0.017637  0.006166  0.021586  0.037811   \n",
      "9   0.003654  0.016659  0.089257  0.017465  0.006129  0.021385  0.036860   \n",
      "10  0.003579  0.016495  0.088560  0.017322  0.006063  0.021173  0.036583   \n",
      "11  0.003573  0.016490  0.088641  0.017371  0.006052  0.021189  0.036809   \n",
      "12  0.003583  0.016474  0.088577  0.017351  0.006047  0.021177  0.036856   \n",
      "13  0.003606  0.016470  0.088720  0.017370  0.006086  0.021200  0.037116   \n",
      "14  0.003585  0.016551  0.089052  0.017449  0.006049  0.021296  0.037415   \n",
      "15  0.003565  0.016478  0.088789  0.017369  0.006078  0.021166  0.036660   \n",
      "16  0.003533  0.016290  0.087968  0.017180  0.005985  0.020910  0.036263   \n",
      "17  0.003532  0.016264  0.087965  0.017191  0.006004  0.020931  0.036447   \n",
      "18  0.003528  0.016270  0.087940  0.017211  0.005994  0.020902  0.036414   \n",
      "19  0.003545  0.016306  0.088088  0.017232  0.005994  0.020962  0.036701   \n",
      "20  0.003546  0.016366  0.088290  0.017327  0.006022  0.021028  0.036980   \n",
      "21  0.003528  0.016440  0.088584  0.017419  0.006033  0.021181  0.037260   \n",
      "22  0.003521  0.016229  0.087844  0.017202  0.005979  0.020871  0.036216   \n",
      "23  0.003488  0.016142  0.087383  0.017089  0.005941  0.020824  0.036101   \n",
      "24  0.003495  0.016162  0.087499  0.017165  0.005965  0.020867  0.036287   \n",
      "25  0.003479  0.016112  0.087436  0.017170  0.005975  0.020829  0.036315   \n",
      "26  0.003485  0.016156  0.087657  0.017200  0.005968  0.020915  0.036597   \n",
      "27  0.003494  0.016264  0.087884  0.017342  0.005994  0.020994  0.036842   \n",
      "28  0.003523  0.016278  0.088136  0.017368  0.006008  0.021095  0.036939   \n",
      "\n",
      "          14        15        16        17        18        19  \n",
      "0   0.008303  0.070450  0.005362  0.003984  0.020679  0.079415  \n",
      "1   0.008366  0.070684  0.005386  0.004022  0.020815  0.079658  \n",
      "2   0.008421  0.071234  0.005389  0.004069  0.020995  0.079964  \n",
      "3   0.008225  0.070040  0.005320  0.004000  0.020389  0.078714  \n",
      "4   0.008140  0.069467  0.005253  0.003938  0.020367  0.078323  \n",
      "5   0.008228  0.069788  0.005277  0.003964  0.020454  0.078557  \n",
      "6   0.008196  0.069857  0.005244  0.003966  0.020519  0.078549  \n",
      "7   0.008231  0.070157  0.005270  0.003997  0.020657  0.078897  \n",
      "8   0.008299  0.070661  0.005290  0.004010  0.020700  0.079043  \n",
      "9   0.008092  0.069239  0.005191  0.003908  0.020211  0.077805  \n",
      "10  0.008043  0.068858  0.005179  0.003913  0.020178  0.077637  \n",
      "11  0.008063  0.069186  0.005168  0.003897  0.020231  0.077803  \n",
      "12  0.008053  0.069213  0.005148  0.003897  0.020269  0.077908  \n",
      "13  0.008121  0.069594  0.005174  0.003940  0.020431  0.078275  \n",
      "14  0.008177  0.070034  0.005205  0.003984  0.020597  0.078589  \n",
      "15  0.008010  0.068888  0.005118  0.003885  0.020027  0.077419  \n",
      "16  0.007906  0.068284  0.005062  0.003853  0.019973  0.077067  \n",
      "17  0.007970  0.068573  0.005067  0.003889  0.020043  0.077328  \n",
      "18  0.007956  0.068563  0.005060  0.003855  0.020099  0.077467  \n",
      "19  0.007980  0.068911  0.005076  0.003900  0.020241  0.077849  \n",
      "20  0.008055  0.069327  0.005117  0.003930  0.020417  0.078294  \n",
      "21  0.008104  0.069644  0.005124  0.003949  0.020310  0.078117  \n",
      "22  0.007873  0.068077  0.004985  0.003854  0.019899  0.077088  \n",
      "23  0.007864  0.067875  0.005009  0.003821  0.019982  0.077087  \n",
      "24  0.007845  0.068156  0.005027  0.003839  0.019962  0.077149  \n",
      "25  0.007909  0.068197  0.004985  0.003830  0.020035  0.077349  \n",
      "26  0.007941  0.068573  0.005015  0.003885  0.020133  0.077670  \n",
      "27  0.007984  0.068947  0.005052  0.003914  0.020300  0.078130  \n",
      "28  0.007985  0.069067  0.005052  0.003927  0.020116  0.077755  \n"
     ]
    }
   ],
   "source": [
    "# import text file \n",
    "data1 = pd.read_csv(filename1, sep=r'\\s+', header=None)\n",
    "data2 = pd.read_csv(filename2, sep=r'\\s+', header=None)\n",
    "# print(data1)\n",
    "print(data2)"
   ]
  },
  {
   "cell_type": "code",
   "execution_count": 47,
   "metadata": {},
   "outputs": [
    {
     "name": "stdout",
     "output_type": "stream",
     "text": [
      "0     0.018647\n",
      "1     0.004927\n",
      "2     0.017979\n",
      "3     0.014473\n",
      "4     0.009549\n",
      "5     0.077201\n",
      "6     0.002554\n",
      "7     0.001401\n",
      "8     0.006188\n",
      "9     0.044977\n",
      "10    0.009310\n",
      "11    0.003225\n",
      "12    0.009696\n",
      "13    0.028031\n",
      "14    0.004740\n",
      "15    0.035267\n",
      "16    0.003610\n",
      "17    0.001931\n",
      "18    0.011020\n",
      "19    0.042993\n",
      "Name: 0, dtype: float64\n"
     ]
    }
   ],
   "source": [
    "# accessing rows\n",
    "print(data.loc[0])\n",
    "\n",
    "# multiple rows\n",
    "# print(data.loc[[1,2,4]])\n",
    "\n",
    "# slicing \n",
    "# print(data.loc[0:5])"
   ]
  },
  {
   "cell_type": "code",
   "execution_count": 49,
   "metadata": {},
   "outputs": [
    {
     "name": "stdout",
     "output_type": "stream",
     "text": [
      "0     0.018647\n",
      "1     0.018638\n",
      "2     0.018668\n",
      "3     0.018744\n",
      "4     0.018521\n",
      "5     0.018479\n",
      "6     0.018518\n",
      "7     0.018513\n",
      "8     0.018609\n",
      "9     0.018627\n",
      "10    0.018401\n",
      "11    0.018362\n",
      "12    0.018436\n",
      "13    0.018446\n",
      "14    0.018491\n",
      "15    0.018555\n",
      "16    0.018301\n",
      "17    0.018270\n",
      "18    0.018318\n",
      "19    0.018329\n",
      "20    0.018395\n",
      "21    0.018435\n",
      "22    0.018446\n",
      "23    0.018260\n",
      "24    0.018279\n",
      "25    0.018300\n",
      "26    0.018322\n",
      "27    0.018375\n",
      "28    0.018437\n",
      "Name: 0, dtype: float64\n"
     ]
    }
   ],
   "source": [
    "# accessing columns\n",
    "print(data[0])\n",
    "\n",
    "# or \n",
    "# print(data.loc[:,0])\n",
    "\n",
    "# accessing multiple columns\n",
    "# print(data.loc[:,[0,1]])\n",
    "\n",
    "# slicing \n",
    "# print(data.loc[:,0:5])"
   ]
  },
  {
   "cell_type": "markdown",
   "metadata": {},
   "source": [
    "# Analyse the data"
   ]
  },
  {
   "cell_type": "code",
   "execution_count": 75,
   "metadata": {},
   "outputs": [],
   "source": [
    "sampling_freq = 10.2\n",
    "period = 1/sampling_freq\n",
    "time = np.ones(len(data))*period*np.arange(len(data))\n",
    "wavelength1 = 760e-9 # in meters\n",
    "wavelength2 = 850e-9 # in meters\n",
    "DPF = 6.0\n",
    "\n",
    "# tabulate extinction coefficients from https://omlc.org/spectra/hemoglobin/summary.html\n",
    "eHB02_760 = 586\n",
    "eHB_760 = 1548.52\n",
    "\n",
    "eHB02_850 = 1058\n",
    "eHB_850 = 691.32\n",
    "\n",
    "d = 1 #?\n",
    "\n",
    "# add time to the dataframe \n",
    "data1['time'] = time\n",
    "data2['time'] = time"
   ]
  },
  {
   "cell_type": "code",
   "execution_count": 76,
   "metadata": {},
   "outputs": [],
   "source": [
    "# new dataframs with time and specific channel \n",
    "data1 = data1[[0, 'time']]\n",
    "data2 = data2[[0, 'time']]"
   ]
  },
  {
   "cell_type": "code",
   "execution_count": 83,
   "metadata": {},
   "outputs": [
    {
     "data": {
      "text/plain": [
       "np.float64(-0.0006339419125391478)"
      ]
     },
     "execution_count": 83,
     "metadata": {},
     "output_type": "execute_result"
    }
   ],
   "source": [
    "A1[5]"
   ]
  },
  {
   "cell_type": "code",
   "execution_count": 87,
   "metadata": {},
   "outputs": [],
   "source": [
    "# set up for system of equations in matrix form \n",
    "epsilon_M = np.array([[eHB02_760, eHB_760], [eHB02_850, eHB_850]])\n",
    "A1 = -np.log10(data1[0]/np.mean(data1[0]))\n",
    "A2 = -np.log10(data2[0]/np.mean(data2[0]))\n",
    "A = np.array([A1, A2])\n",
    "\n",
    "# solve the system of equations \n",
    "d = 1\n",
    "DPF = 6.0\n",
    "\n",
    "# dlelta_C = A / epsilon_M * d * DPF\n",
    "epsilon_const = epsilon_M * d * DPF\n",
    "# invert the epsilon matric \n",
    "epsilon_inv = np.linalg.inv(epsilon_const)\n",
    "\n",
    "# solve for each time point \n",
    "concentrations = []\n",
    "for i in range(len(data1)):\n",
    "    time = data1['time'][i]\n",
    "    A = np.array([A1[i], A2[i]])\n",
    "    delta_C = np.dot(epsilon_inv, A)\n",
    "    concentrations.append([time, delta_C[0], delta_C[1]])\n",
    "\n",
    "concentrations = pd.DataFrame(concentrations, columns=['time', 'HbO2', 'Hb'])"
   ]
  },
  {
   "cell_type": "code",
   "execution_count": 88,
   "metadata": {},
   "outputs": [
    {
     "data": {
      "image/png": "[encoded data removed]",
      "text/plain": [
       "<Figure size 640x480 with 1 Axes>"
      ]
     },
     "metadata": {},
     "output_type": "display_data"
    }
   ],
   "source": [
    "# plot the two concentrations as a function of time \n",
    "plt.plot(concentrations['time'], concentrations['HbO2'], label='HbO2')\n",
    "plt.plot(concentrations['time'], concentrations['Hb'], label='Hb')\n",
    "plt.xlabel('Time (s)')\n",
    "plt.ylabel('Concentration (mM)')\n",
    "plt.legend()\n",
    "plt.show()"
   ]
  },
  {
   "cell_type": "markdown",
   "metadata": {},
   "source": [
    "# Making a function to solve for the conetration of the chromophores"
   ]
  },
  {
   "cell_type": "code",
   "execution_count": null,
   "metadata": {},
   "outputs": [],
   "source": [
    "def chromophore_concentrations(file_num, channel):\n",
    "    # load in data \n",
    "    filename1 = path + '2025-01-28_00' + str(file_num) + '.wl1.txt'\n",
    "    filename2 = path + '2025-01-28_00' + str(file_num) + '.wl2.txt'\n",
    "    data1 = pd.read_csv(filename1, sep=r'\\s+', header=None)\n",
    "    data2 = pd.read_csv(filename2, sep=r'\\s+', header=None)\n",
    "\n",
    "    # add the time to the data \n",
    "    sampling_freq = 10.2\n",
    "    period = 1/sampling_freq\n",
    "    time1 = np.ones(len(data1))*period*np.arange(len(data1))\n",
    "    time2 = np.ones(len(data2))*period*np.arange(len(data2))\n",
    "    data1['time'] = time1\n",
    "    data2['time'] = time2\n",
    "\n",
    "    # get only 1 channel \n",
    "    data1 = data1[[channel, 'time']]\n",
    "    data2 = data2[[channel, 'time']]\n",
    "\n",
    "    # calculate optical density \n",
    "    A1 = -np.log10(data1[channel]/np.mean(data1[channel]))\n",
    "    A2 = -np.log10(data2[channel]/np.mean(data2[channel]))\n",
    "\n",
    "    # extinction coefficients\n",
    "    eHB02_760, eHB_760 = 586, 1548.52\n",
    "    eHB02_850, eHB_850 = 1058, 691.32\n",
    "    # 2x2 matrix of extinction coefficients\n",
    "    epsilon_M = np.array([[eHB02_760, eHB_760], [eHB02_850, eHB_850]])\n",
    "    \n",
    "    # constants \n",
    "    DPF = 6.0\n",
    "    d = 1 # dont know what this should be \n",
    "\n",
    "    # system of equations \n",
    "    # in general deltaC = A / epsilon(lambda) * d * DPF\n",
    "\n",
    "    # for each row in the data calculate the chromophore concentrations\n",
    "    # deltaC is a 2x1 vector of chromophore concentrations\n",
    "    concentations = []\n",
    "    for i in range(len(data1)):\n",
    "        A = np.array([A1[i], A2[i]])\n",
    "        deltaC = A / epsilon_M * d * DPF\n",
    "        concentations.append(deltaC)\n",
    "\n",
    "\n",
    "     \n",
    "    \n",
    "    "
   ]
  }
 ],
 "metadata": {
  "kernelspec": {
   "display_name": "physenv",
   "language": "python",
   "name": "python3"
  },
  "language_info": {
   "codemirror_mode": {
    "name": "ipython",
    "version": 3
   },
   "file_extension": ".py",
   "mimetype": "text/x-python",
   "name": "python",
   "nbconvert_exporter": "python",
   "pygments_lexer": "ipython3",
   "version": "3.12.5"
  }
 },
 "nbformat": 4,
 "nbformat_minor": 2
}
