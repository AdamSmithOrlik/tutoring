{
 "cells": [
  {
   "cell_type": "code",
   "execution_count": 1,
   "metadata": {},
   "outputs": [],
   "source": [
    "import numpy as np\n",
    "import matplotlib.pyplot as plt\n",
    "import pandas as pd\n",
    "\n",
    "import os"
   ]
  },
  {
   "cell_type": "markdown",
   "metadata": {},
   "source": [
    "# load the data"
   ]
  },
  {
   "cell_type": "markdown",
   "metadata": {},
   "source": [
    "You need to change the file type to txt by appending '.txt' to the '.wl1' files."
   ]
  },
  {
   "cell_type": "code",
   "execution_count": 3,
   "metadata": {},
   "outputs": [
    {
     "name": "stdout",
     "output_type": "stream",
     "text": [
      "['.DS_Store', '2025-01-28_006', '2025-01-28_001', '2025-01-28_008', '2025-01-28_009', '2025-01-28_007', '2025-01-28_002', '2025-01-28_005', '2025-01-28_004', '2025-01-28_003']\n"
     ]
    }
   ],
   "source": [
    "path = os.getcwd() + \"/2025-01-28-Group1/\"\n",
    "files = os.listdir(path)\n",
    "print(files)"
   ]
  },
  {
   "cell_type": "code",
   "execution_count": 4,
   "metadata": {},
   "outputs": [
    {
     "name": "stdout",
     "output_type": "stream",
     "text": [
      "/Users/adamsmith/Desktop/ACADEMICS/YORKU/taships/Tutoring/tutoring/Salman/2025-01-28-Group1/2025-01-28_001/2025-01-28_001.wl1.txt\n",
      "/Users/adamsmith/Desktop/ACADEMICS/YORKU/taships/Tutoring/tutoring/Salman/2025-01-28-Group1/2025-01-28_001/2025-01-28_001.wl2.txt\n"
     ]
    }
   ],
   "source": [
    "# try the first file\n",
    "sub_path = '2025-01-28_001'\n",
    "data_path = path + sub_path\n",
    "\n",
    "filename1 = os.path.join(data_path, sub_path + '.wl1.txt')\n",
    "filename2 = os.path.join(data_path, sub_path + '.wl2.txt')\n",
    "\n",
    "print(filename1)\n",
    "print(filename2)"
   ]
  },
  {
   "cell_type": "code",
   "execution_count": 5,
   "metadata": {},
   "outputs": [
    {
     "name": "stdout",
     "output_type": "stream",
     "text": [
      "          0         1         2         3         4         5         6   \\\n",
      "0   0.035096  0.010170  0.035766  0.026234  0.017958  0.097040  0.006404   \n",
      "1   0.035052  0.010129  0.035719  0.026219  0.017912  0.097036  0.006366   \n",
      "2   0.035234  0.010161  0.035814  0.026412  0.018108  0.097806  0.006383   \n",
      "3   0.035401  0.010201  0.035951  0.026559  0.018181  0.098367  0.006400   \n",
      "4   0.034696  0.010089  0.035430  0.025786  0.017623  0.095271  0.006288   \n",
      "5   0.034560  0.010056  0.035262  0.025762  0.017606  0.095334  0.006287   \n",
      "6   0.034619  0.010065  0.035255  0.025835  0.017652  0.095759  0.006284   \n",
      "7   0.034611  0.010040  0.035265  0.025920  0.017727  0.095943  0.006272   \n",
      "8   0.034872  0.010057  0.035402  0.026163  0.017903  0.096718  0.006299   \n",
      "9   0.034890  0.010058  0.035440  0.026102  0.017854  0.096694  0.006268   \n",
      "10  0.034209  0.009974  0.034919  0.025452  0.017412  0.094137  0.006187   \n",
      "11  0.034136  0.009936  0.034811  0.025433  0.017399  0.094322  0.006170   \n",
      "12  0.034174  0.009917  0.034874  0.025484  0.017446  0.094573  0.006140   \n",
      "13  0.034216  0.009921  0.034836  0.025612  0.017503  0.094911  0.006143   \n",
      "14  0.034367  0.009921  0.034954  0.025784  0.017657  0.095676  0.006139   \n",
      "15  0.034522  0.009986  0.035101  0.025887  0.017691  0.096112  0.006148   \n",
      "16  0.033888  0.009868  0.034606  0.025128  0.017180  0.093201  0.006063   \n",
      "17  0.033708  0.009819  0.034448  0.025113  0.017197  0.093216  0.006039   \n",
      "18  0.033831  0.009853  0.034496  0.025148  0.017218  0.093544  0.006040   \n",
      "19  0.033804  0.009840  0.034474  0.025264  0.017258  0.093828  0.006049   \n",
      "20  0.034007  0.009865  0.034648  0.025476  0.017453  0.094564  0.006058   \n",
      "21  0.034192  0.009914  0.034849  0.025708  0.017580  0.095360  0.006076   \n",
      "22  0.034146  0.009905  0.034722  0.025418  0.017341  0.094248  0.006060   \n",
      "23  0.033576  0.009826  0.034356  0.024972  0.017045  0.092496  0.006009   \n",
      "24  0.033612  0.009810  0.034384  0.025063  0.017131  0.092944  0.006006   \n",
      "25  0.033618  0.009804  0.034322  0.025017  0.017088  0.092973  0.005944   \n",
      "26  0.033712  0.009824  0.034413  0.025181  0.017210  0.093351  0.005990   \n",
      "27  0.033874  0.009876  0.034581  0.025339  0.017328  0.094049  0.005982   \n",
      "28  0.034064  0.009885  0.034751  0.025535  0.017483  0.094741  0.006052   \n",
      "\n",
      "          7         8         9         10        11        12        13  \\\n",
      "0   0.003706  0.016990  0.090234  0.017698  0.006232  0.021810  0.037609   \n",
      "1   0.003672  0.016956  0.090224  0.017747  0.006245  0.021795  0.037795   \n",
      "2   0.003699  0.017000  0.090508  0.017800  0.006220  0.021896  0.038184   \n",
      "3   0.003693  0.016961  0.090263  0.017712  0.006216  0.021737  0.037427   \n",
      "4   0.003648  0.016719  0.089405  0.017527  0.006162  0.021510  0.036996   \n",
      "5   0.003642  0.016741  0.089402  0.017547  0.006166  0.021517  0.037195   \n",
      "6   0.003605  0.016704  0.089432  0.017516  0.006130  0.021467  0.037243   \n",
      "7   0.003649  0.016705  0.089514  0.017563  0.006160  0.021486  0.037485   \n",
      "8   0.003633  0.016819  0.089745  0.017637  0.006166  0.021586  0.037811   \n",
      "9   0.003654  0.016659  0.089257  0.017465  0.006129  0.021385  0.036860   \n",
      "10  0.003579  0.016495  0.088560  0.017322  0.006063  0.021173  0.036583   \n",
      "11  0.003573  0.016490  0.088641  0.017371  0.006052  0.021189  0.036809   \n",
      "12  0.003583  0.016474  0.088577  0.017351  0.006047  0.021177  0.036856   \n",
      "13  0.003606  0.016470  0.088720  0.017370  0.006086  0.021200  0.037116   \n",
      "14  0.003585  0.016551  0.089052  0.017449  0.006049  0.021296  0.037415   \n",
      "15  0.003565  0.016478  0.088789  0.017369  0.006078  0.021166  0.036660   \n",
      "16  0.003533  0.016290  0.087968  0.017180  0.005985  0.020910  0.036263   \n",
      "17  0.003532  0.016264  0.087965  0.017191  0.006004  0.020931  0.036447   \n",
      "18  0.003528  0.016270  0.087940  0.017211  0.005994  0.020902  0.036414   \n",
      "19  0.003545  0.016306  0.088088  0.017232  0.005994  0.020962  0.036701   \n",
      "20  0.003546  0.016366  0.088290  0.017327  0.006022  0.021028  0.036980   \n",
      "21  0.003528  0.016440  0.088584  0.017419  0.006033  0.021181  0.037260   \n",
      "22  0.003521  0.016229  0.087844  0.017202  0.005979  0.020871  0.036216   \n",
      "23  0.003488  0.016142  0.087383  0.017089  0.005941  0.020824  0.036101   \n",
      "24  0.003495  0.016162  0.087499  0.017165  0.005965  0.020867  0.036287   \n",
      "25  0.003479  0.016112  0.087436  0.017170  0.005975  0.020829  0.036315   \n",
      "26  0.003485  0.016156  0.087657  0.017200  0.005968  0.020915  0.036597   \n",
      "27  0.003494  0.016264  0.087884  0.017342  0.005994  0.020994  0.036842   \n",
      "28  0.003523  0.016278  0.088136  0.017368  0.006008  0.021095  0.036939   \n",
      "\n",
      "          14        15        16        17        18        19  \n",
      "0   0.008303  0.070450  0.005362  0.003984  0.020679  0.079415  \n",
      "1   0.008366  0.070684  0.005386  0.004022  0.020815  0.079658  \n",
      "2   0.008421  0.071234  0.005389  0.004069  0.020995  0.079964  \n",
      "3   0.008225  0.070040  0.005320  0.004000  0.020389  0.078714  \n",
      "4   0.008140  0.069467  0.005253  0.003938  0.020367  0.078323  \n",
      "5   0.008228  0.069788  0.005277  0.003964  0.020454  0.078557  \n",
      "6   0.008196  0.069857  0.005244  0.003966  0.020519  0.078549  \n",
      "7   0.008231  0.070157  0.005270  0.003997  0.020657  0.078897  \n",
      "8   0.008299  0.070661  0.005290  0.004010  0.020700  0.079043  \n",
      "9   0.008092  0.069239  0.005191  0.003908  0.020211  0.077805  \n",
      "10  0.008043  0.068858  0.005179  0.003913  0.020178  0.077637  \n",
      "11  0.008063  0.069186  0.005168  0.003897  0.020231  0.077803  \n",
      "12  0.008053  0.069213  0.005148  0.003897  0.020269  0.077908  \n",
      "13  0.008121  0.069594  0.005174  0.003940  0.020431  0.078275  \n",
      "14  0.008177  0.070034  0.005205  0.003984  0.020597  0.078589  \n",
      "15  0.008010  0.068888  0.005118  0.003885  0.020027  0.077419  \n",
      "16  0.007906  0.068284  0.005062  0.003853  0.019973  0.077067  \n",
      "17  0.007970  0.068573  0.005067  0.003889  0.020043  0.077328  \n",
      "18  0.007956  0.068563  0.005060  0.003855  0.020099  0.077467  \n",
      "19  0.007980  0.068911  0.005076  0.003900  0.020241  0.077849  \n",
      "20  0.008055  0.069327  0.005117  0.003930  0.020417  0.078294  \n",
      "21  0.008104  0.069644  0.005124  0.003949  0.020310  0.078117  \n",
      "22  0.007873  0.068077  0.004985  0.003854  0.019899  0.077088  \n",
      "23  0.007864  0.067875  0.005009  0.003821  0.019982  0.077087  \n",
      "24  0.007845  0.068156  0.005027  0.003839  0.019962  0.077149  \n",
      "25  0.007909  0.068197  0.004985  0.003830  0.020035  0.077349  \n",
      "26  0.007941  0.068573  0.005015  0.003885  0.020133  0.077670  \n",
      "27  0.007984  0.068947  0.005052  0.003914  0.020300  0.078130  \n",
      "28  0.007985  0.069067  0.005052  0.003927  0.020116  0.077755  \n"
     ]
    }
   ],
   "source": [
    "# import text file \n",
    "data1 = pd.read_csv(filename1, sep=r'\\s+', header=None)\n",
    "data2 = pd.read_csv(filename2, sep=r'\\s+', header=None)\n",
    "# print(data1)\n",
    "print(data2)"
   ]
  },
  {
   "cell_type": "code",
   "execution_count": 6,
   "metadata": {},
   "outputs": [
    {
     "data": {
      "text/plain": [
       "pandas.core.frame.DataFrame"
      ]
     },
     "execution_count": 6,
     "metadata": {},
     "output_type": "execute_result"
    }
   ],
   "source": [
    "type(data1)"
   ]
  },
  {
   "cell_type": "code",
   "execution_count": null,
   "metadata": {},
   "outputs": [
    {
     "name": "stdout",
     "output_type": "stream",
     "text": [
      "0     0.018647\n",
      "1     0.004927\n",
      "2     0.017979\n",
      "3     0.014473\n",
      "4     0.009549\n",
      "5     0.077201\n",
      "6     0.002554\n",
      "7     0.001401\n",
      "8     0.006188\n",
      "9     0.044977\n",
      "10    0.009310\n",
      "11    0.003225\n",
      "12    0.009696\n",
      "13    0.028031\n",
      "14    0.004740\n",
      "15    0.035267\n",
      "16    0.003610\n",
      "17    0.001931\n",
      "18    0.011020\n",
      "19    0.042993\n",
      "Name: 0, dtype: float64\n"
     ]
    }
   ],
   "source": [
    "# accessing rows\n",
    "print(data1.loc[0])\n",
    "\n",
    "# multiple rows\n",
    "# print(data.loc[[1,2,4]])\n",
    "\n",
    "# slicing \n",
    "# print(data.loc[0:5])"
   ]
  },
  {
   "cell_type": "code",
   "execution_count": 11,
   "metadata": {},
   "outputs": [
    {
     "name": "stdout",
     "output_type": "stream",
     "text": [
      "[0.00492677 0.00493792 0.00494101 0.00494185 0.00492049 0.00492573\n",
      " 0.0049224  0.00491901 0.00492126 0.00495954 0.00489176 0.00488432\n",
      " 0.00487243 0.00489464 0.00488935 0.00489662 0.00486749 0.00486089\n",
      " 0.00484929 0.00487334 0.00487877 0.00487682 0.00488328 0.00485781\n",
      " 0.00485714 0.00487732 0.00487149 0.00489241 0.00492446]\n"
     ]
    }
   ],
   "source": [
    "# accessing columns\n",
    "print(data1[1].values)\n",
    "\n",
    "# or \n",
    "# print(data.loc[:,0])\n",
    "\n",
    "# accessing multiple columns\n",
    "# print(data.loc[:,[0,1]])\n",
    "\n",
    "# slicing \n",
    "# print(data.loc[:,0:5])"
   ]
  },
  {
   "cell_type": "code",
   "execution_count": null,
   "metadata": {},
   "outputs": [
    {
     "data": {
      "text/plain": [
       "Index([0, 1, 2, 3, 4, 5, 6, 7, 8, 9, 10, 11, 12, 13, 14, 15, 16, 17, 18, 19], dtype='int64')"
      ]
     },
     "execution_count": 14,
     "metadata": {},
     "output_type": "execute_result"
    }
   ],
   "source": [
    "data1.keys()"
   ]
  },
  {
   "cell_type": "code",
   "execution_count": 17,
   "metadata": {},
   "outputs": [
    {
     "name": "stdout",
     "output_type": "stream",
     "text": [
      "Index([0, 1, 2, 3, 4, 5, 6, 7, 8, 9, 10, 11, 12, 13, 14, 15, 16, 17, 18, 19,\n",
      "       'error'],\n",
      "      dtype='object')\n"
     ]
    }
   ],
   "source": [
    "error = np.zeros(len(data1))\n",
    "data1['error'] = error\n",
    "\n",
    "print(data1.columns)"
   ]
  },
  {
   "cell_type": "markdown",
   "metadata": {},
   "source": [
    "# Analyse the data"
   ]
  },
  {
   "cell_type": "code",
   "execution_count": 20,
   "metadata": {},
   "outputs": [],
   "source": [
    "sampling_freq = 10.2\n",
    "period = 1/sampling_freq\n",
    "time = np.ones(len(data1))*period*np.arange(len(data1))\n",
    "# wavelength1 = 760e-9 # in meters\n",
    "# wavelength2 = 850e-9 # in meters\n",
    "DPF = 6.0\n",
    "\n",
    "# tabulate extinction coefficients from https://omlc.org/spectra/hemoglobin/summary.html\n",
    "eHB02_760 = 586\n",
    "eHB_760 = 1548.52\n",
    "\n",
    "eHB02_850 = 1058\n",
    "eHB_850 = 691.32\n",
    "\n",
    "d = 1 #?\n",
    "\n",
    "# add time to the dataframe \n",
    "data1['time'] = time\n",
    "data2['time'] = time"
   ]
  },
  {
   "cell_type": "code",
   "execution_count": 21,
   "metadata": {},
   "outputs": [
    {
     "name": "stdout",
     "output_type": "stream",
     "text": [
      "           0      time\n",
      "0   0.018647  0.000000\n",
      "1   0.018638  0.098039\n",
      "2   0.018668  0.196078\n",
      "3   0.018744  0.294118\n",
      "4   0.018521  0.392157\n",
      "5   0.018479  0.490196\n",
      "6   0.018518  0.588235\n",
      "7   0.018513  0.686275\n",
      "8   0.018609  0.784314\n",
      "9   0.018627  0.882353\n",
      "10  0.018401  0.980392\n",
      "11  0.018362  1.078431\n",
      "12  0.018436  1.176471\n",
      "13  0.018446  1.274510\n",
      "14  0.018491  1.372549\n",
      "15  0.018555  1.470588\n",
      "16  0.018301  1.568627\n",
      "17  0.018270  1.666667\n",
      "18  0.018318  1.764706\n",
      "19  0.018329  1.862745\n",
      "20  0.018395  1.960784\n",
      "21  0.018435  2.058824\n",
      "22  0.018446  2.156863\n",
      "23  0.018260  2.254902\n",
      "24  0.018279  2.352941\n",
      "25  0.018300  2.450980\n",
      "26  0.018322  2.549020\n",
      "27  0.018375  2.647059\n",
      "28  0.018437  2.745098\n"
     ]
    }
   ],
   "source": [
    "# new dataframs with time and specific channel \n",
    "data1 = data1[[0, 'time']]\n",
    "data2 = data2[[0, 'time']]\n",
    "\n",
    "print(data1)"
   ]
  },
  {
   "cell_type": "code",
   "execution_count": 83,
   "metadata": {},
   "outputs": [
    {
     "data": {
      "text/plain": [
       "np.float64(-0.0006339419125391478)"
      ]
     },
     "execution_count": 83,
     "metadata": {},
     "output_type": "execute_result"
    }
   ],
   "source": [
    "A1[5]"
   ]
  },
  {
   "cell_type": "code",
   "execution_count": 26,
   "metadata": {},
   "outputs": [],
   "source": [
    "# set up for system of equations in matrix form \n",
    "epsilon_M = np.array([[eHB02_760, eHB_760], [eHB02_850, eHB_850]])\n",
    "A1 = -np.log10(data1[0]/np.mean(data1[0]))\n",
    "A2 = -np.log10(data2[0]/np.mean(data2[0]))\n",
    "A = np.array([A1, A2])\n",
    "\n",
    "# solve the system of equations \n",
    "d = 1\n",
    "DPF = 6.0\n",
    "\n",
    "# dlelta_C = A / epsilon_M * d * DPF\n",
    "epsilon_const = epsilon_M * d * DPF\n",
    "# invert the epsilon matric \n",
    "epsilon_inv = np.linalg.inv(epsilon_const)\n",
    "\n",
    "# solve for each time point\n",
    "deltaC = np.dot(epsilon_inv, A)\n",
    "\n",
    "# # solve for each time point \n",
    "# concentrations = []\n",
    "# for i in range(len(data1)):\n",
    "#     time = data1['time'][i]\n",
    "#     A = np.array([A1[i], A2[i]])\n",
    "#     delta_C = np.dot(epsilon_inv, A)\n",
    "#     concentrations.append([time, delta_C[0], delta_C[1]])\n",
    "\n",
    "# concentrations = pd.DataFrame(concentrations, columns=['time', 'HbO2', 'Hb'])"
   ]
  },
  {
   "cell_type": "code",
   "execution_count": 29,
   "metadata": {},
   "outputs": [
    {
     "data": {
      "text/plain": [
       "(2, 29)"
      ]
     },
     "execution_count": 29,
     "metadata": {},
     "output_type": "execute_result"
    }
   ],
   "source": [
    "A.shape"
   ]
  },
  {
   "cell_type": "code",
   "execution_count": 94,
   "metadata": {},
   "outputs": [
    {
     "data": {
      "text/html": [
       "<div>\n",
       "<style scoped>\n",
       "    .dataframe tbody tr th:only-of-type {\n",
       "        vertical-align: middle;\n",
       "    }\n",
       "\n",
       "    .dataframe tbody tr th {\n",
       "        vertical-align: top;\n",
       "    }\n",
       "\n",
       "    .dataframe thead th {\n",
       "        text-align: right;\n",
       "    }\n",
       "</style>\n",
       "<table border=\"1\" class=\"dataframe\">\n",
       "  <thead>\n",
       "    <tr style=\"text-align: right;\">\n",
       "      <th></th>\n",
       "      <th>HbO2</th>\n",
       "      <th>Hb</th>\n",
       "      <th>time</th>\n",
       "    </tr>\n",
       "  </thead>\n",
       "  <tbody>\n",
       "    <tr>\n",
       "      <th>0</th>\n",
       "      <td>-1.661721e-06</td>\n",
       "      <td>1.391572e-07</td>\n",
       "      <td>0.000000</td>\n",
       "    </tr>\n",
       "    <tr>\n",
       "      <th>1</th>\n",
       "      <td>-1.566528e-06</td>\n",
       "      <td>1.251480e-07</td>\n",
       "      <td>0.098039</td>\n",
       "    </tr>\n",
       "    <tr>\n",
       "      <th>2</th>\n",
       "      <td>-1.969920e-06</td>\n",
       "      <td>2.017230e-07</td>\n",
       "      <td>0.196078</td>\n",
       "    </tr>\n",
       "    <tr>\n",
       "      <th>3</th>\n",
       "      <td>-2.236499e-06</td>\n",
       "      <td>1.130956e-07</td>\n",
       "      <td>0.294118</td>\n",
       "    </tr>\n",
       "    <tr>\n",
       "      <th>4</th>\n",
       "      <td>-8.947975e-07</td>\n",
       "      <td>1.658315e-07</td>\n",
       "      <td>0.392157</td>\n",
       "    </tr>\n",
       "    <tr>\n",
       "      <th>5</th>\n",
       "      <td>-6.292262e-07</td>\n",
       "      <td>1.698845e-07</td>\n",
       "      <td>0.490196</td>\n",
       "    </tr>\n",
       "    <tr>\n",
       "      <th>6</th>\n",
       "      <td>-6.997635e-07</td>\n",
       "      <td>9.954716e-08</td>\n",
       "      <td>0.588235</td>\n",
       "    </tr>\n",
       "    <tr>\n",
       "      <th>7</th>\n",
       "      <td>-6.874293e-07</td>\n",
       "      <td>1.062904e-07</td>\n",
       "      <td>0.686275</td>\n",
       "    </tr>\n",
       "    <tr>\n",
       "      <th>8</th>\n",
       "      <td>-1.160760e-06</td>\n",
       "      <td>4.453247e-08</td>\n",
       "      <td>0.784314</td>\n",
       "    </tr>\n",
       "    <tr>\n",
       "      <th>9</th>\n",
       "      <td>-1.168590e-06</td>\n",
       "      <td>2.605352e-09</td>\n",
       "      <td>0.882353</td>\n",
       "    </tr>\n",
       "    <tr>\n",
       "      <th>10</th>\n",
       "      <td>1.280496e-07</td>\n",
       "      <td>8.128129e-08</td>\n",
       "      <td>0.980392</td>\n",
       "    </tr>\n",
       "    <tr>\n",
       "      <th>11</th>\n",
       "      <td>2.360563e-07</td>\n",
       "      <td>1.404216e-07</td>\n",
       "      <td>1.078431</td>\n",
       "    </tr>\n",
       "    <tr>\n",
       "      <th>12</th>\n",
       "      <td>2.975630e-07</td>\n",
       "      <td>-7.090342e-08</td>\n",
       "      <td>1.176471</td>\n",
       "    </tr>\n",
       "    <tr>\n",
       "      <th>13</th>\n",
       "      <td>2.077261e-07</td>\n",
       "      <td>-6.177265e-08</td>\n",
       "      <td>1.274510</td>\n",
       "    </tr>\n",
       "    <tr>\n",
       "      <th>14</th>\n",
       "      <td>-9.352964e-08</td>\n",
       "      <td>-6.287725e-08</td>\n",
       "      <td>1.372549</td>\n",
       "    </tr>\n",
       "    <tr>\n",
       "      <th>15</th>\n",
       "      <td>-3.632969e-07</td>\n",
       "      <td>-1.204535e-07</td>\n",
       "      <td>1.470588</td>\n",
       "    </tr>\n",
       "    <tr>\n",
       "      <th>16</th>\n",
       "      <td>7.626320e-07</td>\n",
       "      <td>9.710274e-08</td>\n",
       "      <td>1.568627</td>\n",
       "    </tr>\n",
       "    <tr>\n",
       "      <th>17</th>\n",
       "      <td>1.177326e-06</td>\n",
       "      <td>1.867540e-08</td>\n",
       "      <td>1.666667</td>\n",
       "    </tr>\n",
       "    <tr>\n",
       "      <th>18</th>\n",
       "      <td>9.533584e-07</td>\n",
       "      <td>-1.778435e-08</td>\n",
       "      <td>1.764706</td>\n",
       "    </tr>\n",
       "    <tr>\n",
       "      <th>19</th>\n",
       "      <td>1.047896e-06</td>\n",
       "      <td>-8.159590e-08</td>\n",
       "      <td>1.862745</td>\n",
       "    </tr>\n",
       "    <tr>\n",
       "      <th>20</th>\n",
       "      <td>6.525012e-07</td>\n",
       "      <td>-1.018394e-07</td>\n",
       "      <td>1.960784</td>\n",
       "    </tr>\n",
       "    <tr>\n",
       "      <th>21</th>\n",
       "      <td>2.474186e-07</td>\n",
       "      <td>-5.000055e-08</td>\n",
       "      <td>2.058824</td>\n",
       "    </tr>\n",
       "    <tr>\n",
       "      <th>22</th>\n",
       "      <td>3.933286e-07</td>\n",
       "      <td>-1.331751e-07</td>\n",
       "      <td>2.156863</td>\n",
       "    </tr>\n",
       "    <tr>\n",
       "      <th>23</th>\n",
       "      <td>1.512021e-06</td>\n",
       "      <td>-8.254391e-08</td>\n",
       "      <td>2.254902</td>\n",
       "    </tr>\n",
       "    <tr>\n",
       "      <th>24</th>\n",
       "      <td>1.456604e-06</td>\n",
       "      <td>-1.089057e-07</td>\n",
       "      <td>2.352941</td>\n",
       "    </tr>\n",
       "    <tr>\n",
       "      <th>25</th>\n",
       "      <td>1.486588e-06</td>\n",
       "      <td>-1.736680e-07</td>\n",
       "      <td>2.450980</td>\n",
       "    </tr>\n",
       "    <tr>\n",
       "      <th>26</th>\n",
       "      <td>1.281855e-06</td>\n",
       "      <td>-1.537818e-07</td>\n",
       "      <td>2.549020</td>\n",
       "    </tr>\n",
       "    <tr>\n",
       "      <th>27</th>\n",
       "      <td>9.633135e-07</td>\n",
       "      <td>-1.668808e-07</td>\n",
       "      <td>2.647059</td>\n",
       "    </tr>\n",
       "    <tr>\n",
       "      <th>28</th>\n",
       "      <td>5.919754e-07</td>\n",
       "      <td>-1.846492e-07</td>\n",
       "      <td>2.745098</td>\n",
       "    </tr>\n",
       "  </tbody>\n",
       "</table>\n",
       "</div>"
      ],
      "text/plain": [
       "            HbO2            Hb      time\n",
       "0  -1.661721e-06  1.391572e-07  0.000000\n",
       "1  -1.566528e-06  1.251480e-07  0.098039\n",
       "2  -1.969920e-06  2.017230e-07  0.196078\n",
       "3  -2.236499e-06  1.130956e-07  0.294118\n",
       "4  -8.947975e-07  1.658315e-07  0.392157\n",
       "5  -6.292262e-07  1.698845e-07  0.490196\n",
       "6  -6.997635e-07  9.954716e-08  0.588235\n",
       "7  -6.874293e-07  1.062904e-07  0.686275\n",
       "8  -1.160760e-06  4.453247e-08  0.784314\n",
       "9  -1.168590e-06  2.605352e-09  0.882353\n",
       "10  1.280496e-07  8.128129e-08  0.980392\n",
       "11  2.360563e-07  1.404216e-07  1.078431\n",
       "12  2.975630e-07 -7.090342e-08  1.176471\n",
       "13  2.077261e-07 -6.177265e-08  1.274510\n",
       "14 -9.352964e-08 -6.287725e-08  1.372549\n",
       "15 -3.632969e-07 -1.204535e-07  1.470588\n",
       "16  7.626320e-07  9.710274e-08  1.568627\n",
       "17  1.177326e-06  1.867540e-08  1.666667\n",
       "18  9.533584e-07 -1.778435e-08  1.764706\n",
       "19  1.047896e-06 -8.159590e-08  1.862745\n",
       "20  6.525012e-07 -1.018394e-07  1.960784\n",
       "21  2.474186e-07 -5.000055e-08  2.058824\n",
       "22  3.933286e-07 -1.331751e-07  2.156863\n",
       "23  1.512021e-06 -8.254391e-08  2.254902\n",
       "24  1.456604e-06 -1.089057e-07  2.352941\n",
       "25  1.486588e-06 -1.736680e-07  2.450980\n",
       "26  1.281855e-06 -1.537818e-07  2.549020\n",
       "27  9.633135e-07 -1.668808e-07  2.647059\n",
       "28  5.919754e-07 -1.846492e-07  2.745098"
      ]
     },
     "execution_count": 94,
     "metadata": {},
     "output_type": "execute_result"
    }
   ],
   "source": [
    "# add delataC to a datafram with time \n",
    "concentrations = pd.DataFrame(deltaC.T, columns=['HbO2', 'Hb'])\n",
    "concentrations['time'] = data1['time']\n",
    "concentrations"
   ]
  },
  {
   "cell_type": "code",
   "execution_count": 95,
   "metadata": {},
   "outputs": [
    {
     "data": {
      "image/png": "[encoded data removed]",
      "text/plain": [
       "<Figure size 640x480 with 1 Axes>"
      ]
     },
     "metadata": {},
     "output_type": "display_data"
    }
   ],
   "source": [
    "# plot the two concentrations as a function of time \n",
    "plt.plot(concentrations['time'], concentrations['HbO2'], label='HbO2')\n",
    "plt.plot(concentrations['time'], concentrations['Hb'], label='Hb')\n",
    "plt.xlabel('Time (s)')\n",
    "plt.ylabel('Concentration (mM)')\n",
    "plt.legend()\n",
    "plt.show()"
   ]
  },
  {
   "cell_type": "code",
   "execution_count": 89,
   "metadata": {},
   "outputs": [
    {
     "data": {
      "text/html": [
       "<div>\n",
       "<style scoped>\n",
       "    .dataframe tbody tr th:only-of-type {\n",
       "        vertical-align: middle;\n",
       "    }\n",
       "\n",
       "    .dataframe tbody tr th {\n",
       "        vertical-align: top;\n",
       "    }\n",
       "\n",
       "    .dataframe thead th {\n",
       "        text-align: right;\n",
       "    }\n",
       "</style>\n",
       "<table border=\"1\" class=\"dataframe\">\n",
       "  <thead>\n",
       "    <tr style=\"text-align: right;\">\n",
       "      <th></th>\n",
       "      <th>time</th>\n",
       "      <th>HbO2</th>\n",
       "      <th>Hb</th>\n",
       "    </tr>\n",
       "  </thead>\n",
       "  <tbody>\n",
       "    <tr>\n",
       "      <th>0</th>\n",
       "      <td>0.000000</td>\n",
       "      <td>-1.661721e-06</td>\n",
       "      <td>1.391572e-07</td>\n",
       "    </tr>\n",
       "    <tr>\n",
       "      <th>1</th>\n",
       "      <td>0.098039</td>\n",
       "      <td>-1.566528e-06</td>\n",
       "      <td>1.251480e-07</td>\n",
       "    </tr>\n",
       "    <tr>\n",
       "      <th>2</th>\n",
       "      <td>0.196078</td>\n",
       "      <td>-1.969920e-06</td>\n",
       "      <td>2.017230e-07</td>\n",
       "    </tr>\n",
       "    <tr>\n",
       "      <th>3</th>\n",
       "      <td>0.294118</td>\n",
       "      <td>-2.236499e-06</td>\n",
       "      <td>1.130956e-07</td>\n",
       "    </tr>\n",
       "    <tr>\n",
       "      <th>4</th>\n",
       "      <td>0.392157</td>\n",
       "      <td>-8.947975e-07</td>\n",
       "      <td>1.658315e-07</td>\n",
       "    </tr>\n",
       "    <tr>\n",
       "      <th>5</th>\n",
       "      <td>0.490196</td>\n",
       "      <td>-6.292262e-07</td>\n",
       "      <td>1.698845e-07</td>\n",
       "    </tr>\n",
       "    <tr>\n",
       "      <th>6</th>\n",
       "      <td>0.588235</td>\n",
       "      <td>-6.997635e-07</td>\n",
       "      <td>9.954716e-08</td>\n",
       "    </tr>\n",
       "    <tr>\n",
       "      <th>7</th>\n",
       "      <td>0.686275</td>\n",
       "      <td>-6.874293e-07</td>\n",
       "      <td>1.062904e-07</td>\n",
       "    </tr>\n",
       "    <tr>\n",
       "      <th>8</th>\n",
       "      <td>0.784314</td>\n",
       "      <td>-1.160760e-06</td>\n",
       "      <td>4.453247e-08</td>\n",
       "    </tr>\n",
       "    <tr>\n",
       "      <th>9</th>\n",
       "      <td>0.882353</td>\n",
       "      <td>-1.168590e-06</td>\n",
       "      <td>2.605352e-09</td>\n",
       "    </tr>\n",
       "    <tr>\n",
       "      <th>10</th>\n",
       "      <td>0.980392</td>\n",
       "      <td>1.280496e-07</td>\n",
       "      <td>8.128129e-08</td>\n",
       "    </tr>\n",
       "    <tr>\n",
       "      <th>11</th>\n",
       "      <td>1.078431</td>\n",
       "      <td>2.360563e-07</td>\n",
       "      <td>1.404216e-07</td>\n",
       "    </tr>\n",
       "    <tr>\n",
       "      <th>12</th>\n",
       "      <td>1.176471</td>\n",
       "      <td>2.975630e-07</td>\n",
       "      <td>-7.090342e-08</td>\n",
       "    </tr>\n",
       "    <tr>\n",
       "      <th>13</th>\n",
       "      <td>1.274510</td>\n",
       "      <td>2.077261e-07</td>\n",
       "      <td>-6.177265e-08</td>\n",
       "    </tr>\n",
       "    <tr>\n",
       "      <th>14</th>\n",
       "      <td>1.372549</td>\n",
       "      <td>-9.352964e-08</td>\n",
       "      <td>-6.287725e-08</td>\n",
       "    </tr>\n",
       "    <tr>\n",
       "      <th>15</th>\n",
       "      <td>1.470588</td>\n",
       "      <td>-3.632969e-07</td>\n",
       "      <td>-1.204535e-07</td>\n",
       "    </tr>\n",
       "    <tr>\n",
       "      <th>16</th>\n",
       "      <td>1.568627</td>\n",
       "      <td>7.626320e-07</td>\n",
       "      <td>9.710274e-08</td>\n",
       "    </tr>\n",
       "    <tr>\n",
       "      <th>17</th>\n",
       "      <td>1.666667</td>\n",
       "      <td>1.177326e-06</td>\n",
       "      <td>1.867540e-08</td>\n",
       "    </tr>\n",
       "    <tr>\n",
       "      <th>18</th>\n",
       "      <td>1.764706</td>\n",
       "      <td>9.533584e-07</td>\n",
       "      <td>-1.778435e-08</td>\n",
       "    </tr>\n",
       "    <tr>\n",
       "      <th>19</th>\n",
       "      <td>1.862745</td>\n",
       "      <td>1.047896e-06</td>\n",
       "      <td>-8.159590e-08</td>\n",
       "    </tr>\n",
       "    <tr>\n",
       "      <th>20</th>\n",
       "      <td>1.960784</td>\n",
       "      <td>6.525012e-07</td>\n",
       "      <td>-1.018394e-07</td>\n",
       "    </tr>\n",
       "    <tr>\n",
       "      <th>21</th>\n",
       "      <td>2.058824</td>\n",
       "      <td>2.474186e-07</td>\n",
       "      <td>-5.000055e-08</td>\n",
       "    </tr>\n",
       "    <tr>\n",
       "      <th>22</th>\n",
       "      <td>2.156863</td>\n",
       "      <td>3.933286e-07</td>\n",
       "      <td>-1.331751e-07</td>\n",
       "    </tr>\n",
       "    <tr>\n",
       "      <th>23</th>\n",
       "      <td>2.254902</td>\n",
       "      <td>1.512021e-06</td>\n",
       "      <td>-8.254391e-08</td>\n",
       "    </tr>\n",
       "    <tr>\n",
       "      <th>24</th>\n",
       "      <td>2.352941</td>\n",
       "      <td>1.456604e-06</td>\n",
       "      <td>-1.089057e-07</td>\n",
       "    </tr>\n",
       "    <tr>\n",
       "      <th>25</th>\n",
       "      <td>2.450980</td>\n",
       "      <td>1.486588e-06</td>\n",
       "      <td>-1.736680e-07</td>\n",
       "    </tr>\n",
       "    <tr>\n",
       "      <th>26</th>\n",
       "      <td>2.549020</td>\n",
       "      <td>1.281855e-06</td>\n",
       "      <td>-1.537818e-07</td>\n",
       "    </tr>\n",
       "    <tr>\n",
       "      <th>27</th>\n",
       "      <td>2.647059</td>\n",
       "      <td>9.633135e-07</td>\n",
       "      <td>-1.668808e-07</td>\n",
       "    </tr>\n",
       "    <tr>\n",
       "      <th>28</th>\n",
       "      <td>2.745098</td>\n",
       "      <td>5.919754e-07</td>\n",
       "      <td>-1.846492e-07</td>\n",
       "    </tr>\n",
       "  </tbody>\n",
       "</table>\n",
       "</div>"
      ],
      "text/plain": [
       "        time          HbO2            Hb\n",
       "0   0.000000 -1.661721e-06  1.391572e-07\n",
       "1   0.098039 -1.566528e-06  1.251480e-07\n",
       "2   0.196078 -1.969920e-06  2.017230e-07\n",
       "3   0.294118 -2.236499e-06  1.130956e-07\n",
       "4   0.392157 -8.947975e-07  1.658315e-07\n",
       "5   0.490196 -6.292262e-07  1.698845e-07\n",
       "6   0.588235 -6.997635e-07  9.954716e-08\n",
       "7   0.686275 -6.874293e-07  1.062904e-07\n",
       "8   0.784314 -1.160760e-06  4.453247e-08\n",
       "9   0.882353 -1.168590e-06  2.605352e-09\n",
       "10  0.980392  1.280496e-07  8.128129e-08\n",
       "11  1.078431  2.360563e-07  1.404216e-07\n",
       "12  1.176471  2.975630e-07 -7.090342e-08\n",
       "13  1.274510  2.077261e-07 -6.177265e-08\n",
       "14  1.372549 -9.352964e-08 -6.287725e-08\n",
       "15  1.470588 -3.632969e-07 -1.204535e-07\n",
       "16  1.568627  7.626320e-07  9.710274e-08\n",
       "17  1.666667  1.177326e-06  1.867540e-08\n",
       "18  1.764706  9.533584e-07 -1.778435e-08\n",
       "19  1.862745  1.047896e-06 -8.159590e-08\n",
       "20  1.960784  6.525012e-07 -1.018394e-07\n",
       "21  2.058824  2.474186e-07 -5.000055e-08\n",
       "22  2.156863  3.933286e-07 -1.331751e-07\n",
       "23  2.254902  1.512021e-06 -8.254391e-08\n",
       "24  2.352941  1.456604e-06 -1.089057e-07\n",
       "25  2.450980  1.486588e-06 -1.736680e-07\n",
       "26  2.549020  1.281855e-06 -1.537818e-07\n",
       "27  2.647059  9.633135e-07 -1.668808e-07\n",
       "28  2.745098  5.919754e-07 -1.846492e-07"
      ]
     },
     "execution_count": 89,
     "metadata": {},
     "output_type": "execute_result"
    }
   ],
   "source": [
    "concentrations"
   ]
  },
  {
   "cell_type": "markdown",
   "metadata": {},
   "source": [
    "# Making a function to solve for the conetration of the chromophores"
   ]
  },
  {
   "cell_type": "code",
   "execution_count": 23,
   "metadata": {},
   "outputs": [],
   "source": [
    "def multiply_array(a, arr, sum=False):\n",
    "    arr = np.array(arr)\n",
    "    result = a * arr\n",
    "\n",
    "    if sum:\n",
    "        result = np.sum(result)\n",
    "\n",
    "    return result"
   ]
  },
  {
   "cell_type": "code",
   "execution_count": 25,
   "metadata": {},
   "outputs": [
    {
     "data": {
      "text/plain": [
       "np.int64(12)"
      ]
     },
     "execution_count": 25,
     "metadata": {},
     "output_type": "execute_result"
    }
   ],
   "source": [
    "arr1 = [1, 2, 3]\n",
    "multiple = 2\n",
    "\n",
    "multiply_array(multiple, arr1, sum=True)"
   ]
  },
  {
   "cell_type": "code",
   "execution_count": 30,
   "metadata": {},
   "outputs": [],
   "source": [
    "def chromophore_concentrations(file_num, channel):\n",
    "    # load in data \n",
    "    file_date = f'2025-01-28_00{file_num}' \n",
    "    filename1 = path + file_date + '/' + file_date + '.wl1.txt'\n",
    "    filename2 = path + file_date + '/' + file_date + '.wl2.txt'\n",
    "    data1 = pd.read_csv(filename1, sep=r'\\s+', header=None)\n",
    "    data2 = pd.read_csv(filename2, sep=r'\\s+', header=None)\n",
    "\n",
    "    # add the time to the data \n",
    "    sampling_freq = 10.2\n",
    "    period = 1/sampling_freq\n",
    "    time1 = np.ones(len(data1))*period*np.arange(len(data1))\n",
    "    time2 = np.ones(len(data2))*period*np.arange(len(data2))\n",
    "    data1['time'] = time1\n",
    "    data2['time'] = time2\n",
    "\n",
    "    # get only 1 channel \n",
    "    data1 = data1[[channel, 'time']]\n",
    "    data2 = data2[[channel, 'time']]\n",
    "\n",
    "    N = len(data1) # number of time points\n",
    "\n",
    "    # calculate optical density \n",
    "    A1 = -np.log10(data1[channel]/np.mean(data1[channel]))\n",
    "    A2 = -np.log10(data2[channel]/np.mean(data2[channel]))\n",
    "    A = np.array([A1, A2]) # 2xN matrix\n",
    "\n",
    "    # extinction coefficients\n",
    "    eHB02_760, eHB_760 = 586, 1548.52\n",
    "    eHB02_850, eHB_850 = 1058, 691.32\n",
    "    # 2x2 matrix of extinction coefficients\n",
    "    epsilon_M = np.array([[eHB02_760, eHB_760], [eHB02_850, eHB_850]]) # 2x2 array\n",
    "    \n",
    "    # constants \n",
    "    DPF = 6.0\n",
    "    d = 1 # dont know what this should be \n",
    "\n",
    "    # define E matrix \n",
    "    E = epsilon_M * d * DPF\n",
    "\n",
    "    # Ax = B\n",
    "    # x = A^-1 * B\n",
    "\n",
    "    # system of equations \n",
    "    # in general deltaC = A / epsilon(lambda) * d * DPF = A / E\n",
    "    # therefore deltaC = E^-1 * A\n",
    "    E_inv = np.linalg.inv(E)\n",
    "\n",
    "    # solve for each time point\n",
    "    deltaC = np.dot(E_inv, A) # 2xN matrix of concentrations\n",
    "\n",
    "    # create a dataframe of the concentrations and time \n",
    "    concentrations = pd.DataFrame(deltaC.T, columns=['HbO2', 'Hb'])\n",
    "    concentrations['time'] = data1['time'] # add time to the dataframe\n",
    "\n",
    "    return concentrations"
   ]
  },
  {
   "cell_type": "code",
   "execution_count": 36,
   "metadata": {},
   "outputs": [],
   "source": [
    "c_test = chromophore_concentrations(5, 0)"
   ]
  },
  {
   "cell_type": "code",
   "execution_count": 37,
   "metadata": {},
   "outputs": [
    {
     "data": {
      "text/html": [
       "<div>\n",
       "<style scoped>\n",
       "    .dataframe tbody tr th:only-of-type {\n",
       "        vertical-align: middle;\n",
       "    }\n",
       "\n",
       "    .dataframe tbody tr th {\n",
       "        vertical-align: top;\n",
       "    }\n",
       "\n",
       "    .dataframe thead th {\n",
       "        text-align: right;\n",
       "    }\n",
       "</style>\n",
       "<table border=\"1\" class=\"dataframe\">\n",
       "  <thead>\n",
       "    <tr style=\"text-align: right;\">\n",
       "      <th></th>\n",
       "      <th>HbO2</th>\n",
       "      <th>Hb</th>\n",
       "      <th>time</th>\n",
       "    </tr>\n",
       "  </thead>\n",
       "  <tbody>\n",
       "    <tr>\n",
       "      <th>0</th>\n",
       "      <td>-0.000002</td>\n",
       "      <td>4.181931e-07</td>\n",
       "      <td>0.000000</td>\n",
       "    </tr>\n",
       "    <tr>\n",
       "      <th>1</th>\n",
       "      <td>-0.000001</td>\n",
       "      <td>5.837206e-07</td>\n",
       "      <td>0.098039</td>\n",
       "    </tr>\n",
       "    <tr>\n",
       "      <th>2</th>\n",
       "      <td>-0.000001</td>\n",
       "      <td>6.219227e-07</td>\n",
       "      <td>0.196078</td>\n",
       "    </tr>\n",
       "    <tr>\n",
       "      <th>3</th>\n",
       "      <td>-0.000001</td>\n",
       "      <td>6.497001e-07</td>\n",
       "      <td>0.294118</td>\n",
       "    </tr>\n",
       "    <tr>\n",
       "      <th>4</th>\n",
       "      <td>-0.000002</td>\n",
       "      <td>5.491847e-07</td>\n",
       "      <td>0.392157</td>\n",
       "    </tr>\n",
       "    <tr>\n",
       "      <th>...</th>\n",
       "      <td>...</td>\n",
       "      <td>...</td>\n",
       "      <td>...</td>\n",
       "    </tr>\n",
       "    <tr>\n",
       "      <th>3361</th>\n",
       "      <td>-0.000012</td>\n",
       "      <td>-1.559588e-06</td>\n",
       "      <td>329.509804</td>\n",
       "    </tr>\n",
       "    <tr>\n",
       "      <th>3362</th>\n",
       "      <td>-0.000012</td>\n",
       "      <td>-1.585602e-06</td>\n",
       "      <td>329.607843</td>\n",
       "    </tr>\n",
       "    <tr>\n",
       "      <th>3363</th>\n",
       "      <td>-0.000013</td>\n",
       "      <td>-1.664704e-06</td>\n",
       "      <td>329.705882</td>\n",
       "    </tr>\n",
       "    <tr>\n",
       "      <th>3364</th>\n",
       "      <td>-0.000012</td>\n",
       "      <td>-1.516882e-06</td>\n",
       "      <td>329.803922</td>\n",
       "    </tr>\n",
       "    <tr>\n",
       "      <th>3365</th>\n",
       "      <td>-0.000012</td>\n",
       "      <td>-1.477006e-06</td>\n",
       "      <td>329.901961</td>\n",
       "    </tr>\n",
       "  </tbody>\n",
       "</table>\n",
       "<p>3366 rows × 3 columns</p>\n",
       "</div>"
      ],
      "text/plain": [
       "          HbO2            Hb        time\n",
       "0    -0.000002  4.181931e-07    0.000000\n",
       "1    -0.000001  5.837206e-07    0.098039\n",
       "2    -0.000001  6.219227e-07    0.196078\n",
       "3    -0.000001  6.497001e-07    0.294118\n",
       "4    -0.000002  5.491847e-07    0.392157\n",
       "...        ...           ...         ...\n",
       "3361 -0.000012 -1.559588e-06  329.509804\n",
       "3362 -0.000012 -1.585602e-06  329.607843\n",
       "3363 -0.000013 -1.664704e-06  329.705882\n",
       "3364 -0.000012 -1.516882e-06  329.803922\n",
       "3365 -0.000012 -1.477006e-06  329.901961\n",
       "\n",
       "[3366 rows x 3 columns]"
      ]
     },
     "execution_count": 37,
     "metadata": {},
     "output_type": "execute_result"
    }
   ],
   "source": [
    "c_test"
   ]
  },
  {
   "cell_type": "code",
   "execution_count": 34,
   "metadata": {},
   "outputs": [],
   "source": [
    "def plot_concentrations(concentrations):\n",
    "    plt.plot(concentrations['time'], concentrations['HbO2'], label='HbO2')\n",
    "    plt.plot(concentrations['time'], concentrations['Hb'], label='Hb')\n",
    "    plt.xlabel('Time (s)')\n",
    "    plt.ylabel('Concentration (M)')\n",
    "    plt.legend()\n",
    "    plt.show()"
   ]
  },
  {
   "cell_type": "code",
   "execution_count": 38,
   "metadata": {},
   "outputs": [
    {
     "data": {
      "image/png": "[encoded data removed]",
      "text/plain": [
       "<Figure size 640x480 with 1 Axes>"
      ]
     },
     "metadata": {},
     "output_type": "display_data"
    }
   ],
   "source": [
    "plot_concentrations(c_test)"
   ]
  },
  {
   "cell_type": "code",
   "execution_count": 39,
   "metadata": {},
   "outputs": [],
   "source": [
    "import scipy.fftpack as fft"
   ]
  },
  {
   "cell_type": "code",
   "execution_count": 40,
   "metadata": {},
   "outputs": [
    {
     "data": {
      "text/plain": [
       "Index(['HbO2', 'Hb', 'time'], dtype='object')"
      ]
     },
     "execution_count": 40,
     "metadata": {},
     "output_type": "execute_result"
    }
   ],
   "source": [
    "c_test.columns"
   ]
  },
  {
   "cell_type": "code",
   "execution_count": 42,
   "metadata": {},
   "outputs": [
    {
     "data": {
      "image/png": "[encoded data removed]",
      "text/plain": [
       "<Figure size 640x480 with 1 Axes>"
      ]
     },
     "metadata": {},
     "output_type": "display_data"
    }
   ],
   "source": [
    "hb02 = c_test['HbO2'].values\n",
    "\n",
    "N = len(hb02)\n",
    "T = 1.0 / 10.2\n",
    "\n",
    "yf = fft.fft(hb02)\n",
    "xf = np.linspace(0.0, 1.0/(2.0*T), N//2)\n",
    "\n",
    "# plot the power spectrum\n",
    "plt.plot(xf, 2.0/N * np.abs(yf[:N//2]))\n",
    "plt.grid()\n",
    "plt.ylabel('Power')\n",
    "plt.xlabel('Frequency (Hz)')\n",
    "plt.xlim(0, 0.5)    \n",
    "plt.show()"
   ]
  },
  {
   "cell_type": "code",
   "execution_count": 46,
   "metadata": {},
   "outputs": [],
   "source": [
    "for i in range(5):\n",
    "    chromophore = chromophore_concentrations(5, i)\n",
    "    plt.plot(chromophore['time'], chromophore['HbO2'], label='HbO2')\n",
    "    plt.plot(chromophore['time'], chromophore['Hb'], label='Hb')\n",
    "    plt.xlabel('Time (s)')\n",
    "    plt.ylabel('Concentration (M)')\n",
    "    plt.legend()\n",
    "    plt.savefig(path+'/plots/' + f'group_{5}_channel_{i}.png')\n",
    "    plt.close()"
   ]
  },
  {
   "cell_type": "code",
   "execution_count": 58,
   "metadata": {},
   "outputs": [
    {
     "data": {
      "text/plain": [
       "array([[2, 3, 0],\n",
       "       [3, 4, 1],\n",
       "       [4, 5, 2]])"
      ]
     },
     "execution_count": 58,
     "metadata": {},
     "output_type": "execute_result"
    }
   ],
   "source": [
    "arr = np.array([[2,3,0],[3,4,1],[4,5,2]])\n",
    "arr"
   ]
  },
  {
   "cell_type": "code",
   "execution_count": 57,
   "metadata": {},
   "outputs": [
    {
     "data": {
      "text/html": [
       "<div>\n",
       "<style scoped>\n",
       "    .dataframe tbody tr th:only-of-type {\n",
       "        vertical-align: middle;\n",
       "    }\n",
       "\n",
       "    .dataframe tbody tr th {\n",
       "        vertical-align: top;\n",
       "    }\n",
       "\n",
       "    .dataframe thead th {\n",
       "        text-align: right;\n",
       "    }\n",
       "</style>\n",
       "<table border=\"1\" class=\"dataframe\">\n",
       "  <thead>\n",
       "    <tr style=\"text-align: right;\">\n",
       "      <th></th>\n",
       "      <th>a</th>\n",
       "      <th>b</th>\n",
       "      <th>time</th>\n",
       "    </tr>\n",
       "  </thead>\n",
       "  <tbody>\n",
       "    <tr>\n",
       "      <th>0</th>\n",
       "      <td>2</td>\n",
       "      <td>3</td>\n",
       "      <td>0</td>\n",
       "    </tr>\n",
       "    <tr>\n",
       "      <th>1</th>\n",
       "      <td>3</td>\n",
       "      <td>4</td>\n",
       "      <td>1</td>\n",
       "    </tr>\n",
       "    <tr>\n",
       "      <th>2</th>\n",
       "      <td>4</td>\n",
       "      <td>5</td>\n",
       "      <td>2</td>\n",
       "    </tr>\n",
       "  </tbody>\n",
       "</table>\n",
       "</div>"
      ],
      "text/plain": [
       "   a  b  time\n",
       "0  2  3     0\n",
       "1  3  4     1\n",
       "2  4  5     2"
      ]
     },
     "execution_count": 57,
     "metadata": {},
     "output_type": "execute_result"
    }
   ],
   "source": [
    "# get the first column \n",
    "df = pd.DataFrame(arr, columns=['a','b','time'])\n",
    "df\n"
   ]
  },
  {
   "cell_type": "code",
   "execution_count": 61,
   "metadata": {},
   "outputs": [
    {
     "data": {
      "text/plain": [
       "array([2, 3, 4])"
      ]
     },
     "execution_count": 61,
     "metadata": {},
     "output_type": "execute_result"
    }
   ],
   "source": [
    "df['a'].values"
   ]
  },
  {
   "cell_type": "code",
   "execution_count": 67,
   "metadata": {},
   "outputs": [],
   "source": [
    "df['freq'] = 1/ (df['time'] + 0.0001)"
   ]
  },
  {
   "cell_type": "code",
   "execution_count": 68,
   "metadata": {},
   "outputs": [
    {
     "data": {
      "text/html": [
       "<div>\n",
       "<style scoped>\n",
       "    .dataframe tbody tr th:only-of-type {\n",
       "        vertical-align: middle;\n",
       "    }\n",
       "\n",
       "    .dataframe tbody tr th {\n",
       "        vertical-align: top;\n",
       "    }\n",
       "\n",
       "    .dataframe thead th {\n",
       "        text-align: right;\n",
       "    }\n",
       "</style>\n",
       "<table border=\"1\" class=\"dataframe\">\n",
       "  <thead>\n",
       "    <tr style=\"text-align: right;\">\n",
       "      <th></th>\n",
       "      <th>a</th>\n",
       "      <th>b</th>\n",
       "      <th>time</th>\n",
       "      <th>freq</th>\n",
       "    </tr>\n",
       "  </thead>\n",
       "  <tbody>\n",
       "    <tr>\n",
       "      <th>0</th>\n",
       "      <td>2</td>\n",
       "      <td>3</td>\n",
       "      <td>0</td>\n",
       "      <td>10000.000000</td>\n",
       "    </tr>\n",
       "    <tr>\n",
       "      <th>1</th>\n",
       "      <td>3</td>\n",
       "      <td>4</td>\n",
       "      <td>1</td>\n",
       "      <td>0.999900</td>\n",
       "    </tr>\n",
       "    <tr>\n",
       "      <th>2</th>\n",
       "      <td>4</td>\n",
       "      <td>5</td>\n",
       "      <td>2</td>\n",
       "      <td>0.499975</td>\n",
       "    </tr>\n",
       "  </tbody>\n",
       "</table>\n",
       "</div>"
      ],
      "text/plain": [
       "   a  b  time          freq\n",
       "0  2  3     0  10000.000000\n",
       "1  3  4     1      0.999900\n",
       "2  4  5     2      0.499975"
      ]
     },
     "execution_count": 68,
     "metadata": {},
     "output_type": "execute_result"
    }
   ],
   "source": [
    "df"
   ]
  },
  {
   "cell_type": "code",
   "execution_count": 69,
   "metadata": {},
   "outputs": [
    {
     "data": {
      "text/html": [
       "<div>\n",
       "<style scoped>\n",
       "    .dataframe tbody tr th:only-of-type {\n",
       "        vertical-align: middle;\n",
       "    }\n",
       "\n",
       "    .dataframe tbody tr th {\n",
       "        vertical-align: top;\n",
       "    }\n",
       "\n",
       "    .dataframe thead th {\n",
       "        text-align: right;\n",
       "    }\n",
       "</style>\n",
       "<table border=\"1\" class=\"dataframe\">\n",
       "  <thead>\n",
       "    <tr style=\"text-align: right;\">\n",
       "      <th></th>\n",
       "      <th>a</th>\n",
       "      <th>b</th>\n",
       "      <th>time</th>\n",
       "      <th>freq</th>\n",
       "    </tr>\n",
       "  </thead>\n",
       "  <tbody>\n",
       "    <tr>\n",
       "      <th>count</th>\n",
       "      <td>3.0</td>\n",
       "      <td>3.0</td>\n",
       "      <td>3.0</td>\n",
       "      <td>3.000000</td>\n",
       "    </tr>\n",
       "    <tr>\n",
       "      <th>mean</th>\n",
       "      <td>3.0</td>\n",
       "      <td>4.0</td>\n",
       "      <td>1.0</td>\n",
       "      <td>3333.833292</td>\n",
       "    </tr>\n",
       "    <tr>\n",
       "      <th>std</th>\n",
       "      <td>1.0</td>\n",
       "      <td>1.0</td>\n",
       "      <td>1.0</td>\n",
       "      <td>5773.069721</td>\n",
       "    </tr>\n",
       "    <tr>\n",
       "      <th>min</th>\n",
       "      <td>2.0</td>\n",
       "      <td>3.0</td>\n",
       "      <td>0.0</td>\n",
       "      <td>0.499975</td>\n",
       "    </tr>\n",
       "    <tr>\n",
       "      <th>25%</th>\n",
       "      <td>2.5</td>\n",
       "      <td>3.5</td>\n",
       "      <td>0.5</td>\n",
       "      <td>0.749938</td>\n",
       "    </tr>\n",
       "    <tr>\n",
       "      <th>50%</th>\n",
       "      <td>3.0</td>\n",
       "      <td>4.0</td>\n",
       "      <td>1.0</td>\n",
       "      <td>0.999900</td>\n",
       "    </tr>\n",
       "    <tr>\n",
       "      <th>75%</th>\n",
       "      <td>3.5</td>\n",
       "      <td>4.5</td>\n",
       "      <td>1.5</td>\n",
       "      <td>5000.499950</td>\n",
       "    </tr>\n",
       "    <tr>\n",
       "      <th>max</th>\n",
       "      <td>4.0</td>\n",
       "      <td>5.0</td>\n",
       "      <td>2.0</td>\n",
       "      <td>10000.000000</td>\n",
       "    </tr>\n",
       "  </tbody>\n",
       "</table>\n",
       "</div>"
      ],
      "text/plain": [
       "         a    b  time          freq\n",
       "count  3.0  3.0   3.0      3.000000\n",
       "mean   3.0  4.0   1.0   3333.833292\n",
       "std    1.0  1.0   1.0   5773.069721\n",
       "min    2.0  3.0   0.0      0.499975\n",
       "25%    2.5  3.5   0.5      0.749938\n",
       "50%    3.0  4.0   1.0      0.999900\n",
       "75%    3.5  4.5   1.5   5000.499950\n",
       "max    4.0  5.0   2.0  10000.000000"
      ]
     },
     "execution_count": 69,
     "metadata": {},
     "output_type": "execute_result"
    }
   ],
   "source": [
    "df.describe()"
   ]
  },
  {
   "cell_type": "code",
   "execution_count": 70,
   "metadata": {},
   "outputs": [],
   "source": [
    "d = {'a':[2,3,0], 'b':[3,4,1], 'time':[4,5,2]}"
   ]
  },
  {
   "cell_type": "code",
   "execution_count": 77,
   "metadata": {},
   "outputs": [
    {
     "data": {
      "text/html": [
       "<div>\n",
       "<style scoped>\n",
       "    .dataframe tbody tr th:only-of-type {\n",
       "        vertical-align: middle;\n",
       "    }\n",
       "\n",
       "    .dataframe tbody tr th {\n",
       "        vertical-align: top;\n",
       "    }\n",
       "\n",
       "    .dataframe thead th {\n",
       "        text-align: right;\n",
       "    }\n",
       "</style>\n",
       "<table border=\"1\" class=\"dataframe\">\n",
       "  <thead>\n",
       "    <tr style=\"text-align: right;\">\n",
       "      <th></th>\n",
       "      <th>a</th>\n",
       "      <th>b</th>\n",
       "      <th>time</th>\n",
       "    </tr>\n",
       "  </thead>\n",
       "  <tbody>\n",
       "    <tr>\n",
       "      <th>0</th>\n",
       "      <td>2</td>\n",
       "      <td>3</td>\n",
       "      <td>4</td>\n",
       "    </tr>\n",
       "    <tr>\n",
       "      <th>1</th>\n",
       "      <td>3</td>\n",
       "      <td>4</td>\n",
       "      <td>5</td>\n",
       "    </tr>\n",
       "    <tr>\n",
       "      <th>2</th>\n",
       "      <td>0</td>\n",
       "      <td>1</td>\n",
       "      <td>2</td>\n",
       "    </tr>\n",
       "  </tbody>\n",
       "</table>\n",
       "</div>"
      ],
      "text/plain": [
       "   a  b  time\n",
       "0  2  3     4\n",
       "1  3  4     5\n",
       "2  0  1     2"
      ]
     },
     "execution_count": 77,
     "metadata": {},
     "output_type": "execute_result"
    }
   ],
   "source": [
    "df = pd.DataFrame(d)\n",
    "df"
   ]
  },
  {
   "cell_type": "code",
   "execution_count": null,
   "metadata": {},
   "outputs": [],
   "source": []
  },
  {
   "cell_type": "markdown",
   "metadata": {},
   "source": []
  }
 ],
 "metadata": {
  "kernelspec": {
   "display_name": "physenv",
   "language": "python",
   "name": "python3"
  },
  "language_info": {
   "codemirror_mode": {
    "name": "ipython",
    "version": 3
   },
   "file_extension": ".py",
   "mimetype": "text/x-python",
   "name": "python",
   "nbconvert_exporter": "python",
   "pygments_lexer": "ipython3",
   "version": "3.12.5"
  }
 },
 "nbformat": 4,
 "nbformat_minor": 2
}
